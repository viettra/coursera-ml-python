{
 "cells": [
  {
   "cell_type": "code",
   "execution_count": 6,
   "metadata": {},
   "outputs": [
    {
     "name": "stdout",
     "output_type": "stream",
     "text": [
      "The autoreload extension is already loaded. To reload it, use:\n",
      "  %reload_ext autoreload\n"
     ]
    }
   ],
   "source": [
    "import scipy.io as io\n",
    "import numpy as np\n",
    "\n",
    "%load_ext autoreload\n",
    "%autoreload 2"
   ]
  },
  {
   "cell_type": "code",
   "execution_count": 2,
   "metadata": {},
   "outputs": [
    {
     "name": "stdout",
     "output_type": "stream",
     "text": [
      "X shape:  (12, 1)\n",
      "y shape:  (12, 1)\n",
      "Xval shape:  (21, 1)\n",
      "yval shape:  (21, 1)\n",
      "Xtest shape:  (21, 1)\n",
      "ytest shape:  (21, 1)\n"
     ]
    }
   ],
   "source": [
    "data = io.loadmat('ex5data1.mat')\n",
    "X = data['X']\n",
    "y = data['y']\n",
    "Xval = data['Xval']\n",
    "yval = data['yval']\n",
    "Xtest = data['Xtest']\n",
    "ytest = data['ytest']\n",
    "#m = Number of examples\n",
    "m = X.shape[0]\n",
    "\n",
    "print('X shape: ', X.shape)\n",
    "print('y shape: ', y.shape)\n",
    "print('Xval shape: ', Xval.shape)\n",
    "print('yval shape: ', yval.shape)\n",
    "print('Xtest shape: ', Xtest.shape)\n",
    "print('ytest shape: ', ytest.shape)"
   ]
  },
  {
   "cell_type": "code",
   "execution_count": 35,
   "metadata": {},
   "outputs": [],
   "source": [
    "def f(theta, *args):\n",
    "    \"\"\"\n",
    "    Calculate the cost of the linear regression by using theta.\n",
    "    \n",
    "    Arguments:\n",
    "    - theta: 1-D np array -- must have the shape of (?,)\n",
    "    \n",
    "    Returns:\n",
    "    - J: float -- value of cost\n",
    "    \"\"\"\n",
    "    X, y, lamb = args\n",
    "    m, n = X.shape\n",
    "    _, k = y.shape\n",
    "    \n",
    "    # reshape theta\n",
    "    assert len(theta.shape) == 1, \"`theta` must be the 1-D np array!\"\n",
    "    theta = np.reshape(theta, (n, k))    \n",
    "        \n",
    "    # X has shape of (m, n)\n",
    "    # theta has the shape of (n, 1)\n",
    "    # y has the shape of (m, 1)\n",
    "    \n",
    "    y_pred = np.dot(X, theta)\n",
    "    J = np.sum((y_pred - y)**2)/(2*m)\n",
    "    J += lamb*np.sum(theta[1:]**2)/(2*m)\n",
    "    if type(J) != 'float':\n",
    "        J = float(J)\n",
    "    return J\n",
    "\n",
    "def grad_f(theta, *args):\n",
    "    \"\"\"\n",
    "    Calculate the gradient of the function f.\n",
    "    \n",
    "    Arguments:\n",
    "    - theta: 1-D np array\n",
    "    \n",
    "    Returns:\n",
    "    - grad: 1-D np array -- with the same shape of theta\n",
    "    \"\"\"\n",
    "    X, y, lamb = args\n",
    "    m, n = X.shape\n",
    "    _, k = y.shape\n",
    "    \n",
    "    assert len(theta.shape) == 1, \"`theta` must be the 1-D np array!\"\n",
    "    theta = np.reshape(theta, (n, k))  \n",
    "    \n",
    "    y_pred = np.dot(X, theta)    \n",
    "    grad = np.dot(X.T, y_pred-y)/m\n",
    "    \n",
    "    assert grad.shape == theta.shape, \\\n",
    "        \"Shape of theta {} and grad {} must be the same!\".format(theta.shape, grad.shape)\n",
    "    \n",
    "    grad[1:,:] += theta[1:,:]/m\n",
    "    \n",
    "    return grad.reshape((-1,))"
   ]
  },
  {
   "cell_type": "code",
   "execution_count": 52,
   "metadata": {},
   "outputs": [
    {
     "ename": "AttributeError",
     "evalue": "'float' object has no attribute 'shape'",
     "output_type": "error",
     "traceback": [
      "\u001b[0;31m---------------------------------------------------------------------------\u001b[0m",
      "\u001b[0;31mAttributeError\u001b[0m                            Traceback (most recent call last)",
      "\u001b[0;32m<ipython-input-52-1c6f47fced6c>\u001b[0m in \u001b[0;36m<module>\u001b[0;34m()\u001b[0m\n\u001b[1;32m      1\u001b[0m \u001b[0ma\u001b[0m \u001b[0;34m=\u001b[0m \u001b[0;36m6.9\u001b[0m\u001b[0;34m\u001b[0m\u001b[0m\n\u001b[0;32m----> 2\u001b[0;31m \u001b[0ma\u001b[0m\u001b[0;34m.\u001b[0m\u001b[0mshape\u001b[0m\u001b[0;34m\u001b[0m\u001b[0m\n\u001b[0m",
      "\u001b[0;31mAttributeError\u001b[0m: 'float' object has no attribute 'shape'"
     ]
    }
   ],
   "source": [
    "a = 6.9\n",
    "a.shape"
   ]
  },
  {
   "cell_type": "code",
   "execution_count": null,
   "metadata": {},
   "outputs": [],
   "source": []
  },
  {
   "cell_type": "code",
   "execution_count": 36,
   "metadata": {},
   "outputs": [
    {
     "name": "stdout",
     "output_type": "stream",
     "text": [
      "Cost at theta = [1 , 1]: 303.993192\n",
      "(this value should be about 303.993192)\n",
      "Gradient at theta = [1 , 1]: [-15.30301567 598.25074417]\n",
      "(this value should be about [-15.303016  598.250744])\n"
     ]
    }
   ],
   "source": [
    "theta = np.ones((2,))\n",
    "print('Cost at theta = [1 , 1]: %f' % f(theta, \\\n",
    "               np.concatenate((np.ones((X.shape[0],1)), X), axis=1),y, 1))\n",
    "print('(this value should be about 303.993192)')\n",
    "\n",
    "print('Gradient at theta = [1 , 1]:', grad_f(theta, \\\n",
    "               np.concatenate((np.ones((X.shape[0],1)), X), axis=1),y, 1))\n",
    "print('(this value should be about [-15.303016  598.250744])')"
   ]
  },
  {
   "cell_type": "code",
   "execution_count": 48,
   "metadata": {},
   "outputs": [
    {
     "name": "stdout",
     "output_type": "stream",
     "text": [
      "(2,)\n"
     ]
    },
    {
     "data": {
      "text/plain": [
       "array([13.08772099,  0.36774225])"
      ]
     },
     "execution_count": 48,
     "metadata": {},
     "output_type": "execute_result"
    }
   ],
   "source": [
    "import scipy.optimize as opt\n",
    "\n",
    "initial_theta = np.zeros((X.shape[1]+1, y.shape[1]))\n",
    "initial_theta = initial_theta.reshape((-1,))\n",
    "print(initial_theta.shape)\n",
    "theta = opt.fmin_cg(f=f, \n",
    "                    x0=initial_theta, \n",
    "                    fprime=grad_f, \n",
    "                    args=(np.concatenate((np.ones((X.shape[0],1)), X), axis=1),y,0), \n",
    "                    maxiter=200, disp=0)\n",
    "theta"
   ]
  },
  {
   "cell_type": "code",
   "execution_count": 30,
   "metadata": {},
   "outputs": [
    {
     "data": {
      "text/plain": [
       "(12, 1)"
      ]
     },
     "execution_count": 30,
     "metadata": {},
     "output_type": "execute_result"
    }
   ],
   "source": [
    "np.ones((X.shape[0],1)).shape"
   ]
  },
  {
   "cell_type": "code",
   "execution_count": 50,
   "metadata": {},
   "outputs": [],
   "source": [
    "f = lambda x: cost(x).reshape((-1,))"
   ]
  },
  {
   "cell_type": "code",
   "execution_count": 51,
   "metadata": {},
   "outputs": [
    {
     "data": {
      "text/plain": [
       "20"
      ]
     },
     "execution_count": 51,
     "metadata": {},
     "output_type": "execute_result"
    }
   ],
   "source": [
    "f(10)"
   ]
  },
  {
   "cell_type": "code",
   "execution_count": 53,
   "metadata": {},
   "outputs": [],
   "source": [
    "a = np.ones((5,1))"
   ]
  },
  {
   "cell_type": "code",
   "execution_count": 57,
   "metadata": {},
   "outputs": [],
   "source": [
    "b = np.reshape(a, (-1))"
   ]
  },
  {
   "cell_type": "code",
   "execution_count": 58,
   "metadata": {},
   "outputs": [
    {
     "data": {
      "text/plain": [
       "array([1., 1., 1., 1., 1.])"
      ]
     },
     "execution_count": 58,
     "metadata": {},
     "output_type": "execute_result"
    }
   ],
   "source": [
    "b"
   ]
  },
  {
   "cell_type": "code",
   "execution_count": 59,
   "metadata": {},
   "outputs": [
    {
     "data": {
      "text/plain": [
       "(5,)"
      ]
     },
     "execution_count": 59,
     "metadata": {},
     "output_type": "execute_result"
    }
   ],
   "source": [
    "b.shape"
   ]
  },
  {
   "cell_type": "code",
   "execution_count": 60,
   "metadata": {},
   "outputs": [
    {
     "data": {
      "text/plain": [
       "(5, 1)"
      ]
     },
     "execution_count": 60,
     "metadata": {},
     "output_type": "execute_result"
    }
   ],
   "source": [
    "a.shape"
   ]
  },
  {
   "cell_type": "code",
   "execution_count": null,
   "metadata": {},
   "outputs": [],
   "source": []
  }
 ],
 "metadata": {
  "kernelspec": {
   "display_name": "Python 3",
   "language": "python",
   "name": "python3"
  },
  "language_info": {
   "codemirror_mode": {
    "name": "ipython",
    "version": 3
   },
   "file_extension": ".py",
   "mimetype": "text/x-python",
   "name": "python",
   "nbconvert_exporter": "python",
   "pygments_lexer": "ipython3",
   "version": "3.6.3"
  }
 },
 "nbformat": 4,
 "nbformat_minor": 2
}
